

import numpy as np
import pandas as pd

from sklearn.model_selection import train_test_split
import matplotlib.pyplot as plt


import os
for dirname, _, filenames in os.walk('/kaggle/input'):
    for filename in filenames:
        print(os.path.join(dirname, filename))


class Linear_Regression():

    def __init__(self, learning_rate, no_of_iterations):
        self.learning_rate = learning_rate

        self.no_of_iterations = no_of_iterations

    # fit function to train the model

    def fit(self, X, Y):
        # no_of_training_examples, no_of_features

        self.m, self.n = X.shape

        # initiating the weight and bias

        self.w = np.zeros(self.n)

        self.b = 0

        self.X = X

        self.Y = Y

        # implementing Gradient Descent for Optimization

        for i in range(self.no_of_iterations):
            self.update_weights()

    # function to update weights in gradient descent

    def update_weights(self):
        Y_prediction = self.predict(self.X)

        # calculate gradients

        dw = - (2 * (self.X.T).dot(self.Y - Y_prediction)) / self.m

        db = - 2 * np.sum(self.Y - Y_prediction) / self.m

        # updating the weights

        self.w = self.w - self.learning_rate * dw

        self.b = self.b - self.learning_rate * db

    # Line function for prediction:

    def predict(self, X):
        return X.dot(self.w) + self.b


# importing the dependencies
bus_data = pd.read_excel('bus_prediction_new1.xlsx')
bus_data.head()
bus_data.tail()

X = bus_data.iloc[:,:-1].values
Y = bus_data.iloc[:,1].values
X_train, X_test, Y_train, Y_test = train_test_split(X, Y, test_size=0.33, random_state = 2)
model = Linear_Regression(learning_rate = 0.02, no_of_iterations=1000)
model.fit(X_train, Y_train)

# printing the parameter values ( weights & bias)

print('weight = ', model.w[0])
print('bias = ', model.b)

test_data_prediction = model.predict(X_test)

plt.scatter(X_test, Y_test, color = 'red')
plt.plot(X_test, test_data_prediction, color='blue')
plt.xlabel(' Alloted Time')
plt.ylabel('Arrival time')
plt.title(' Alloted time VS Arrival time')
plt.show()



import matplotlib.pyplot as plt


allocated_time = X_test
arrival_time = Y_test
predicted_arrival_time = test_data_prediction
plt.figure(figsize=(10, 6))
plt.hist(allocated_time, bins=20, color='blue', alpha=0.5, label='Allocated Time')


plt.hist(arrival_time, bins=20, color='green', alpha=0.5, label='Arrival Time')

plt.hist(predicted_arrival_time, bins=20, color='red', alpha=0.5, label='Predicted Arrival Time')

plt.xlabel('Time')
plt.ylabel('Frequency')
plt.title('Distribution of Allocated Time, Arrival Time, and Predicted Arrival Time')
plt.legend()

plt.show()
